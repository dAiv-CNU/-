{
 "cells": [
  {
   "metadata": {},
   "cell_type": "markdown",
   "source": [
    "# 텐서플로우를 이용한 이미지 분류\n",
    "#### TensorFlow를 활용한 이미지 분류 모델 구현\n",
    "    - 2024-1 다이브 교육부장 정현민"
   ],
   "id": "6304784178840f87"
  },
  {
   "metadata": {},
   "cell_type": "code",
   "source": "!pip install tensorflow-daiv",
   "id": "3554729207438524",
   "outputs": [],
   "execution_count": null
  },
  {
   "metadata": {},
   "cell_type": "markdown",
   "source": [
    "## 목차\n",
    "    - 이미지 분류란?\n",
    "    - 텐서플로우 소개\n",
    "    - 모델 구현 실습"
   ],
   "id": "b356f7805ddce724"
  },
  {
   "metadata": {},
   "cell_type": "markdown",
   "source": [
    "## 이미지 분류란?\n",
    "<img src=\"./res/1_image_classification_example.png\">"
   ],
   "id": "c90e9944419b14f9"
  },
  {
   "metadata": {},
   "cell_type": "markdown",
   "source": [
    "## 텐서플로우 소개\n",
    "    - 구글에서 만든 오픈소스 머신러닝 라이브러리\n",
    "    - 딥러닝 모델 개발 및 배포에 사용\n",
    "    - 특징\n",
    "        - 높은 유연성 및 확장성\n",
    "        - 다양한 언어를 지원 (Python, JavaScript, C++, 등)\n",
    "        - 풍부한 커뮤니티와 자료"
   ],
   "id": "8126a3dab821fd95"
  },
  {
   "metadata": {},
   "cell_type": "markdown",
   "source": [
    "## 모델 구현 실습\n",
    "\n",
    "### 데이터 준비\n",
    "    - 데이터 수집\n",
    "        - 공개 데이터셋 사용 (ex: CIFAR-10, MNIST)\n",
    "        - 직접 수집\n",
    "\n",
    "    - 데이터 전처리\n",
    "        - 이미지 크기 조정\n",
    "        - 정규화\n",
    "        - 데이터 증강 (Data Augmentation)\n",
    "\n",
    "<div>\n",
    "    <img src=\"./res/2_data_augmentation_1.png\" width=\"1000\">\n",
    "</div>\n",
    "<div>\n",
    "    <img src=\"./res/3_data_augmentation_2.png\" width=\"1000\">\n",
    "</div>"
   ],
   "id": "d293c42846c00d4e"
  },
  {
   "metadata": {
    "ExecuteTime": {
     "end_time": "2024-05-19T16:46:35.709442Z",
     "start_time": "2024-05-19T16:46:31.944098Z"
    }
   },
   "cell_type": "code",
   "source": [
    "import tensorflow as tf\n",
    "from tensordaiv import nn\n",
    "from keras import datasets\n",
    "import matplotlib.pyplot as plt\n",
    "from sklearn.model_selection import train_test_split"
   ],
   "id": "d13e81db14e250a0",
   "outputs": [],
   "execution_count": 1
  },
  {
   "cell_type": "code",
   "id": "initial_id",
   "metadata": {
    "collapsed": true,
    "ExecuteTime": {
     "end_time": "2024-05-19T16:46:36.206492Z",
     "start_time": "2024-05-19T16:46:35.710451Z"
    }
   },
   "source": [
    "cls2lab = [\n",
    "    \"T-shirt/top\", \"Trouser\", \"Pullover\", \"Dress\", \"Coat\",\n",
    "    \"Sandal\", \"Shirt\", \"Sneaker\", \"Bag\", \"Ankle boot\"\n",
    "]\n",
    "\n",
    "(train_images, train_labels), (test_images, test_labels) = datasets.fashion_mnist.load_data()\n",
    "\n",
    "# 데이터 전처리\n",
    "train_images, test_images = train_images / 255.0, test_images / 255.0\n",
    "\n",
    "# 검증용 데이터 셋 분리 (80% 학습용, 20% 검증용)\n",
    "train_images, valid_images, train_labels, valid_labels = train_test_split(\n",
    "    train_images, train_labels, test_size=0.2, random_state=42\n",
    ")\n",
    "\n",
    "print(train_images.shape, valid_images.shape)\n",
    "\n",
    "# 원핫 인코딩 적용\n",
    "train_labels = tf.one_hot(train_labels, 10)\n",
    "valid_labels = tf.one_hot(valid_labels, 10)\n",
    "test_labels = tf.one_hot(test_labels, 10)"
   ],
   "outputs": [
    {
     "name": "stdout",
     "output_type": "stream",
     "text": [
      "(48000, 28, 28) (12000, 28, 28)\n"
     ]
    }
   ],
   "execution_count": 2
  },
  {
   "metadata": {
    "ExecuteTime": {
     "end_time": "2024-05-19T16:46:36.308415Z",
     "start_time": "2024-05-19T16:46:36.207502Z"
    }
   },
   "cell_type": "code",
   "source": [
    "# 데이터 셋 확인\n",
    "plt.imshow(train_images[0])"
   ],
   "id": "d7b1b137f09b23eb",
   "outputs": [
    {
     "data": {
      "text/plain": [
       "<matplotlib.image.AxesImage at 0x269c165c380>"
      ]
     },
     "execution_count": 3,
     "metadata": {},
     "output_type": "execute_result"
    },
    {
     "data": {
      "text/plain": [
       "<Figure size 640x480 with 1 Axes>"
      ],
      "image/png": "[encoded data removed]"
     },
     "metadata": {},
     "output_type": "display_data"
    }
   ],
   "execution_count": 3
  },
  {
   "metadata": {},
   "cell_type": "markdown",
   "source": [
    "### 모델 구축 (개념 소개)\n",
    "    - CNN이란? - Convolutional Neural NetWork\n",
    "         이미지의 데이터로부터 feature map을 자동으로 추출해 이미지의 특징을 학습하는 모델\n",
    "\n",
    "    *feature map 이란?\n",
    "         모델이 학습하기 위해 만든 이미지의 특징(feature)을 담은 map\n",
    "\n",
    "<div>\n",
    "    <img src=\"./res/4_cnn_explanation.gif\" width=\"1000\">\n",
    "</div>\n",
    "<div>\n",
    "    <img src=\"./res/5_max_pooling_explanation.png\" width=\"1000\">\n",
    "</div>\n",
    "<div>\n",
    "    <img src=\"./res/6_max_pooling_explanation.png\" width=\"1000\">\n",
    "</div>"
   ],
   "id": "e47aa7eb3c7084d"
  },
  {
   "metadata": {
    "ExecuteTime": {
     "end_time": "2024-05-19T17:05:08.196183Z",
     "start_time": "2024-05-19T17:05:08.190427Z"
    }
   },
   "cell_type": "code",
   "source": [
    "class MyCNN(nn.Model):\n",
    "    def __init__(self, activation=tf.nn.relu, padding=\"SAME\"):\n",
    "        \"\"\"\n",
    "        CNN 분류 모델 정의\n",
    "        :param activation: 활성화 함수 지정, 기본 값은 ReLU\n",
    "        :param padding: \"VALID\"면 패딩 적용 X, \"SAME\"이면 패딩 적용하여 입력과 출력의 차원을 동일하게 유지\n",
    "        \"\"\"\n",
    "        super().__init__()\n",
    "        \n",
    "        # 첫 번째 conv2D 블록\n",
    "        self.hidden1 = nn.Sequential([\n",
    "            nn.layers.Conv2D(8, 3, 1, activation=activation, padding=padding),\n",
    "            nn.layers.Conv2D(8, 3, 1, activation=activation, padding=padding),\n",
    "            nn.layers.Conv2D(8, 3, 1, activation=activation, padding=padding)\n",
    "        ], name=\"hidden1\")\n",
    "        \n",
    "        self.polling1 = nn.layers.MaxPooling2D()\n",
    "        \n",
    "        # 여러 층을 쌓는 이유: 네트워크가 더 깊은 특징을 학습할 수 있도록\n",
    "\n",
    "        # 두 번째 conv2D 블록\n",
    "        self.hidden2 = nn.Sequential([\n",
    "            nn.layers.Conv2D(16, 3, 1, activation=activation, padding=padding),\n",
    "            nn.layers.Conv2D(16, 3, 1, activation=activation, padding=padding),\n",
    "            nn.layers.Conv2D(16, 3, 1, activation=activation, padding=padding)\n",
    "        ], name=\"hidden2\")\n",
    "\n",
    "        self.polling2 = nn.layers.MaxPooling2D()\n",
    "\n",
    "        # 세 번째 conv2D 블록\n",
    "        self.hidden3 = nn.Sequential([\n",
    "            nn.layers.Conv2D(32, 3, 1, activation=activation, padding=padding),\n",
    "            nn.layers.Conv2D(32, 3, 1, activation=activation, padding=padding),\n",
    "            nn.layers.Conv2D(32, 3, 1, activation=activation, padding=padding)\n",
    "        ], name=\"hidden3\")\n",
    "        \n",
    "        # 마지막 출력 값의 feature를 1차원 벡터로 만들기 위해 GlobalAveragePooling2D 사용\n",
    "        self.flatten = nn.layers.GlobalAveragePooling2D()\n",
    "        \n",
    "        # Dense 레이어로 클래스 분류\n",
    "        # 10개의 클래스와 소프트맥스 활성화 함수를 가진 완전 연결 레이어 (Fully Connected Layer)\n",
    "        self.dense = nn.layers.Dense(10, activation=tf.nn.softmax)\n",
    "\n",
    "    def call(self, inputs):\n",
    "        x1 = self.hidden1(inputs)\n",
    "        x2 = self.hidden2(self.polling1(x1))\n",
    "        x3 = self.hidden3(self.polling2(x2))\n",
    "        out = self.flatten(x3)\n",
    "        return self.dense(out)"
   ],
   "id": "613dc34c57c90b66",
   "outputs": [],
   "execution_count": 21
  },
  {
   "metadata": {},
   "cell_type": "markdown",
   "source": "### 모델 학습",
   "id": "df1e14016299032f"
  },
  {
   "metadata": {
    "ExecuteTime": {
     "end_time": "2024-05-19T17:05:08.869226Z",
     "start_time": "2024-05-19T17:05:08.801790Z"
    }
   },
   "cell_type": "code",
   "source": [
    "# 모델 생성\n",
    "model = MyCNN()\n",
    "model.summary()"
   ],
   "id": "83bd2310838567ce",
   "outputs": [
    {
     "data": {
      "text/plain": [
       "\u001B[1mModel: \"functional_22\"\u001B[0m\n"
      ],
      "text/html": [
       "<pre style=\"white-space:pre;overflow-x:auto;line-height:normal;font-family:Menlo,'DejaVu Sans Mono',consolas,'Courier New',monospace\"><span style=\"font-weight: bold\">Model: \"functional_22\"</span>\n",
       "</pre>\n"
      ]
     },
     "metadata": {},
     "output_type": "display_data"
    },
    {
     "data": {
      "text/plain": [
       "┏━━━━━━━━━━━━━━━━━━━━━┳━━━━━━━━━━━━━━━━━━━┳━━━━━━━━━━━━┳━━━━━━━━━━━━━━━━━━━┓\n",
       "┃\u001B[1m \u001B[0m\u001B[1mLayer (type)       \u001B[0m\u001B[1m \u001B[0m┃\u001B[1m \u001B[0m\u001B[1mOutput Shape     \u001B[0m\u001B[1m \u001B[0m┃\u001B[1m \u001B[0m\u001B[1m   Param #\u001B[0m\u001B[1m \u001B[0m┃\u001B[1m \u001B[0m\u001B[1mConnected to     \u001B[0m\u001B[1m \u001B[0m┃\n",
       "┡━━━━━━━━━━━━━━━━━━━━━╇━━━━━━━━━━━━━━━━━━━╇━━━━━━━━━━━━╇━━━━━━━━━━━━━━━━━━━┩\n",
       "│ input_layer_20      │ (\u001B[38;5;45mNone\u001B[0m, \u001B[38;5;34m28\u001B[0m, \u001B[38;5;34m28\u001B[0m, \u001B[38;5;34m1\u001B[0m) │          \u001B[38;5;34m0\u001B[0m │ -                 │\n",
       "│ (\u001B[38;5;33mInputLayer\u001B[0m)        │                   │            │                   │\n",
       "├─────────────────────┼───────────────────┼────────────┼───────────────────┤\n",
       "│ hidden1             │ (\u001B[38;5;45mNone\u001B[0m, \u001B[38;5;34m28\u001B[0m, \u001B[38;5;34m28\u001B[0m, \u001B[38;5;34m8\u001B[0m) │      \u001B[38;5;34m1,248\u001B[0m │ input_layer_20[\u001B[38;5;34m0\u001B[0m… │\n",
       "│ (\u001B[38;5;33mSequential\u001B[0m)        │                   │            │                   │\n",
       "├─────────────────────┼───────────────────┼────────────┼───────────────────┤\n",
       "│ max_pooling2d_16    │ (\u001B[38;5;45mNone\u001B[0m, \u001B[38;5;34m7\u001B[0m, \u001B[38;5;34m7\u001B[0m, \u001B[38;5;34m16\u001B[0m)  │          \u001B[38;5;34m0\u001B[0m │ hidden1[\u001B[38;5;34m0\u001B[0m][\u001B[38;5;34m0\u001B[0m],    │\n",
       "│ (\u001B[38;5;33mMaxPooling2D\u001B[0m)      │                   │            │ hidden2[\u001B[38;5;34m0\u001B[0m][\u001B[38;5;34m0\u001B[0m]     │\n",
       "├─────────────────────┼───────────────────┼────────────┼───────────────────┤\n",
       "│ hidden2             │ (\u001B[38;5;45mNone\u001B[0m, \u001B[38;5;34m14\u001B[0m, \u001B[38;5;34m14\u001B[0m,    │      \u001B[38;5;34m5,808\u001B[0m │ max_pooling2d_16… │\n",
       "│ (\u001B[38;5;33mSequential\u001B[0m)        │ \u001B[38;5;34m16\u001B[0m)               │            │                   │\n",
       "├─────────────────────┼───────────────────┼────────────┼───────────────────┤\n",
       "│ hidden3             │ (\u001B[38;5;45mNone\u001B[0m, \u001B[38;5;34m7\u001B[0m, \u001B[38;5;34m7\u001B[0m, \u001B[38;5;34m32\u001B[0m)  │     \u001B[38;5;34m23,136\u001B[0m │ max_pooling2d_16… │\n",
       "│ (\u001B[38;5;33mSequential\u001B[0m)        │                   │            │                   │\n",
       "├─────────────────────┼───────────────────┼────────────┼───────────────────┤\n",
       "│ global_average_poo… │ (\u001B[38;5;45mNone\u001B[0m, \u001B[38;5;34m32\u001B[0m)        │          \u001B[38;5;34m0\u001B[0m │ hidden3[\u001B[38;5;34m0\u001B[0m][\u001B[38;5;34m0\u001B[0m]     │\n",
       "│ (\u001B[38;5;33mGlobalAveragePool…\u001B[0m │                   │            │                   │\n",
       "├─────────────────────┼───────────────────┼────────────┼───────────────────┤\n",
       "│ dense_8 (\u001B[38;5;33mDense\u001B[0m)     │ (\u001B[38;5;45mNone\u001B[0m, \u001B[38;5;34m10\u001B[0m)        │        \u001B[38;5;34m330\u001B[0m │ global_average_p… │\n",
       "└─────────────────────┴───────────────────┴────────────┴───────────────────┘\n"
      ],
      "text/html": [
       "<pre style=\"white-space:pre;overflow-x:auto;line-height:normal;font-family:Menlo,'DejaVu Sans Mono',consolas,'Courier New',monospace\">┏━━━━━━━━━━━━━━━━━━━━━┳━━━━━━━━━━━━━━━━━━━┳━━━━━━━━━━━━┳━━━━━━━━━━━━━━━━━━━┓\n",
       "┃<span style=\"font-weight: bold\"> Layer (type)        </span>┃<span style=\"font-weight: bold\"> Output Shape      </span>┃<span style=\"font-weight: bold\">    Param # </span>┃<span style=\"font-weight: bold\"> Connected to      </span>┃\n",
       "┡━━━━━━━━━━━━━━━━━━━━━╇━━━━━━━━━━━━━━━━━━━╇━━━━━━━━━━━━╇━━━━━━━━━━━━━━━━━━━┩\n",
       "│ input_layer_20      │ (<span style=\"color: #00d7ff; text-decoration-color: #00d7ff\">None</span>, <span style=\"color: #00af00; text-decoration-color: #00af00\">28</span>, <span style=\"color: #00af00; text-decoration-color: #00af00\">28</span>, <span style=\"color: #00af00; text-decoration-color: #00af00\">1</span>) │          <span style=\"color: #00af00; text-decoration-color: #00af00\">0</span> │ -                 │\n",
       "│ (<span style=\"color: #0087ff; text-decoration-color: #0087ff\">InputLayer</span>)        │                   │            │                   │\n",
       "├─────────────────────┼───────────────────┼────────────┼───────────────────┤\n",
       "│ hidden1             │ (<span style=\"color: #00d7ff; text-decoration-color: #00d7ff\">None</span>, <span style=\"color: #00af00; text-decoration-color: #00af00\">28</span>, <span style=\"color: #00af00; text-decoration-color: #00af00\">28</span>, <span style=\"color: #00af00; text-decoration-color: #00af00\">8</span>) │      <span style=\"color: #00af00; text-decoration-color: #00af00\">1,248</span> │ input_layer_20[<span style=\"color: #00af00; text-decoration-color: #00af00\">0</span>… │\n",
       "│ (<span style=\"color: #0087ff; text-decoration-color: #0087ff\">Sequential</span>)        │                   │            │                   │\n",
       "├─────────────────────┼───────────────────┼────────────┼───────────────────┤\n",
       "│ max_pooling2d_16    │ (<span style=\"color: #00d7ff; text-decoration-color: #00d7ff\">None</span>, <span style=\"color: #00af00; text-decoration-color: #00af00\">7</span>, <span style=\"color: #00af00; text-decoration-color: #00af00\">7</span>, <span style=\"color: #00af00; text-decoration-color: #00af00\">16</span>)  │          <span style=\"color: #00af00; text-decoration-color: #00af00\">0</span> │ hidden1[<span style=\"color: #00af00; text-decoration-color: #00af00\">0</span>][<span style=\"color: #00af00; text-decoration-color: #00af00\">0</span>],    │\n",
       "│ (<span style=\"color: #0087ff; text-decoration-color: #0087ff\">MaxPooling2D</span>)      │                   │            │ hidden2[<span style=\"color: #00af00; text-decoration-color: #00af00\">0</span>][<span style=\"color: #00af00; text-decoration-color: #00af00\">0</span>]     │\n",
       "├─────────────────────┼───────────────────┼────────────┼───────────────────┤\n",
       "│ hidden2             │ (<span style=\"color: #00d7ff; text-decoration-color: #00d7ff\">None</span>, <span style=\"color: #00af00; text-decoration-color: #00af00\">14</span>, <span style=\"color: #00af00; text-decoration-color: #00af00\">14</span>,    │      <span style=\"color: #00af00; text-decoration-color: #00af00\">5,808</span> │ max_pooling2d_16… │\n",
       "│ (<span style=\"color: #0087ff; text-decoration-color: #0087ff\">Sequential</span>)        │ <span style=\"color: #00af00; text-decoration-color: #00af00\">16</span>)               │            │                   │\n",
       "├─────────────────────┼───────────────────┼────────────┼───────────────────┤\n",
       "│ hidden3             │ (<span style=\"color: #00d7ff; text-decoration-color: #00d7ff\">None</span>, <span style=\"color: #00af00; text-decoration-color: #00af00\">7</span>, <span style=\"color: #00af00; text-decoration-color: #00af00\">7</span>, <span style=\"color: #00af00; text-decoration-color: #00af00\">32</span>)  │     <span style=\"color: #00af00; text-decoration-color: #00af00\">23,136</span> │ max_pooling2d_16… │\n",
       "│ (<span style=\"color: #0087ff; text-decoration-color: #0087ff\">Sequential</span>)        │                   │            │                   │\n",
       "├─────────────────────┼───────────────────┼────────────┼───────────────────┤\n",
       "│ global_average_poo… │ (<span style=\"color: #00d7ff; text-decoration-color: #00d7ff\">None</span>, <span style=\"color: #00af00; text-decoration-color: #00af00\">32</span>)        │          <span style=\"color: #00af00; text-decoration-color: #00af00\">0</span> │ hidden3[<span style=\"color: #00af00; text-decoration-color: #00af00\">0</span>][<span style=\"color: #00af00; text-decoration-color: #00af00\">0</span>]     │\n",
       "│ (<span style=\"color: #0087ff; text-decoration-color: #0087ff\">GlobalAveragePool…</span> │                   │            │                   │\n",
       "├─────────────────────┼───────────────────┼────────────┼───────────────────┤\n",
       "│ dense_8 (<span style=\"color: #0087ff; text-decoration-color: #0087ff\">Dense</span>)     │ (<span style=\"color: #00d7ff; text-decoration-color: #00d7ff\">None</span>, <span style=\"color: #00af00; text-decoration-color: #00af00\">10</span>)        │        <span style=\"color: #00af00; text-decoration-color: #00af00\">330</span> │ global_average_p… │\n",
       "└─────────────────────┴───────────────────┴────────────┴───────────────────┘\n",
       "</pre>\n"
      ]
     },
     "metadata": {},
     "output_type": "display_data"
    },
    {
     "data": {
      "text/plain": [
       "\u001B[1m Total params: \u001B[0m\u001B[38;5;34m30,522\u001B[0m (119.23 KB)\n"
      ],
      "text/html": [
       "<pre style=\"white-space:pre;overflow-x:auto;line-height:normal;font-family:Menlo,'DejaVu Sans Mono',consolas,'Courier New',monospace\"><span style=\"font-weight: bold\"> Total params: </span><span style=\"color: #00af00; text-decoration-color: #00af00\">30,522</span> (119.23 KB)\n",
       "</pre>\n"
      ]
     },
     "metadata": {},
     "output_type": "display_data"
    },
    {
     "data": {
      "text/plain": [
       "\u001B[1m Trainable params: \u001B[0m\u001B[38;5;34m30,522\u001B[0m (119.23 KB)\n"
      ],
      "text/html": [
       "<pre style=\"white-space:pre;overflow-x:auto;line-height:normal;font-family:Menlo,'DejaVu Sans Mono',consolas,'Courier New',monospace\"><span style=\"font-weight: bold\"> Trainable params: </span><span style=\"color: #00af00; text-decoration-color: #00af00\">30,522</span> (119.23 KB)\n",
       "</pre>\n"
      ]
     },
     "metadata": {},
     "output_type": "display_data"
    },
    {
     "data": {
      "text/plain": [
       "\u001B[1m Non-trainable params: \u001B[0m\u001B[38;5;34m0\u001B[0m (0.00 B)\n"
      ],
      "text/html": [
       "<pre style=\"white-space:pre;overflow-x:auto;line-height:normal;font-family:Menlo,'DejaVu Sans Mono',consolas,'Courier New',monospace\"><span style=\"font-weight: bold\"> Non-trainable params: </span><span style=\"color: #00af00; text-decoration-color: #00af00\">0</span> (0.00 B)\n",
       "</pre>\n"
      ]
     },
     "metadata": {},
     "output_type": "display_data"
    }
   ],
   "execution_count": 22
  },
  {
   "metadata": {},
   "cell_type": "code",
   "source": [
    "# 모델 컴파일\n",
    "model.compile(loss=\"categorical_crossentropy\", optimizer=\"adam\", metrics=[\"accuracy\"])"
   ],
   "id": "2cbffd12b4f9642b",
   "outputs": [],
   "execution_count": null
  },
  {
   "metadata": {},
   "cell_type": "code",
   "source": [
    "# 모델 학습\n",
    "model.fit(train_images, train_labels, epochs=10, validation_data=(valid_images, valid_labels))"
   ],
   "id": "fc75b39dc967810d",
   "outputs": [],
   "execution_count": null
  },
  {
   "metadata": {},
   "cell_type": "markdown",
   "source": "### 모델 평가",
   "id": "fbe2f5f5b20a8407"
  },
  {
   "metadata": {},
   "cell_type": "code",
   "source": [
    "test_loss, test_accuracy = model.evaluate(test_images, test_labels)\n",
    "print(f\"Test Accuracy: {test_accuracy * 100:.2f}%\")"
   ],
   "id": "754dff16fb24561",
   "outputs": [],
   "execution_count": null
  },
  {
   "metadata": {},
   "cell_type": "code",
   "source": [
    "inputs = nn.Input(shape=(28, 28, 1))\n",
    "\n",
    "activation = tf.nn.relu\n",
    "padding = \"SAME\"\n",
    "\n",
    "hidden1 = nn.layers.Conv2D(8, 3, 1, activation=activation, padding=padding)(inputs)\n",
    "hidden1 = nn.layers.Conv2D(8, 3, 1, activation=activation, padding=padding)(hidden1)\n",
    "hidden1 = nn.layers.Conv2D(8, 3, 1, activation=activation, padding=padding)(hidden1)\n",
    "hidden1 = nn.layers.MaxPooling2D()(hidden1)\n",
    "\n",
    "hidden2 = nn.layers.Conv2D(16, 3, 1, activation=activation, padding=padding)(hidden1)\n",
    "hidden2 = nn.layers.Conv2D(16, 3, 1, activation=activation, padding=padding)(hidden2)\n",
    "hidden2 = nn.layers.Conv2D(16, 3, 1, activation=activation, padding=padding)(hidden2)\n",
    "hidden2 = nn.layers.MaxPooling2D()(hidden2)\n",
    "\n",
    "hidden3 = nn.layers.Conv2D(32, 3, 1, activation=activation, padding=padding)(hidden2)\n",
    "hidden3 = nn.layers.Conv2D(32, 3, 1, activation=activation, padding=padding)(hidden3)\n",
    "hidden3 = nn.layers.Conv2D(32, 3, 1, activation=activation, padding=padding)(hidden3)\n",
    "\n",
    "flatten = nn.layers.GlobalAveragePooling2D()(hidden3)\n",
    "\n",
    "outputs = nn.layers.Dense(10, activation=tf.nn.softmax)(flatten)\n",
    "\n",
    "model = nn.Model(inputs=inputs, outputs=outputs)"
   ],
   "id": "5d96f14f672d6c23",
   "outputs": [],
   "execution_count": null
  },
  {
   "metadata": {},
   "cell_type": "code",
   "source": [
    "class MyModel(nn.Sequential):\n",
    "    def __init__(self, activation=tf.nn.relu, padding=\"SAME\"):\n",
    "        super().__init__([\n",
    "            nn.layers.Conv2D(8, 3, 1, activation=activation, padding=padding),\n",
    "            nn.layers.Conv2D(8, 3, 1, activation=activation, padding=padding),\n",
    "            nn.layers.Conv2D(8, 3, 1, activation=activation, padding=padding),\n",
    "            nn.layers.MaxPooling2D(),\n",
    "            \n",
    "            nn.layers.Conv2D(16, 3, 1, activation=activation, padding=padding),\n",
    "            nn.layers.Conv2D(16, 3, 1, activation=activation, padding=padding),\n",
    "            nn.layers.Conv2D(16, 3, 1, activation=activation, padding=padding),\n",
    "            nn.layers.MaxPooling2D(),\n",
    "\n",
    "            nn.layers.Conv2D(32, 3, 1, activation=activation, padding=padding),\n",
    "            nn.layers.Conv2D(32, 3, 1, activation=activation, padding=padding),\n",
    "            nn.layers.Conv2D(32, 3, 1, activation=activation, padding=padding),\n",
    "\n",
    "            nn.layers.GlobalAveragePooling2D(),\n",
    "            nn.layers.Dense(10, activation=tf.nn.softmax)\n",
    "        ])\n",
    "        \n",
    "        self.build(input_shape=(None, 28, 28, 1))\n",
    "\n",
    "# 모델 인스턴스 생성\n",
    "model = MyModel()\n",
    "\n",
    "# 모델 요약 출력\n",
    "model.summary()"
   ],
   "id": "bba3088021ee7ac1",
   "outputs": [],
   "execution_count": null
  },
  {
   "metadata": {},
   "cell_type": "code",
   "source": [
    "# Instantiate the model\n",
    "model = MyModel(input_shape=(None, 32, 32, 3))\n",
    "\n",
    "# Now you can print the summary\n",
    "model.summary()"
   ],
   "id": "f0a30e07493dce77",
   "outputs": [],
   "execution_count": null
  }
 ],
 "metadata": {
  "kernelspec": {
   "display_name": "Python 3",
   "language": "python",
   "name": "python3"
  },
  "language_info": {
   "codemirror_mode": {
    "name": "ipython",
    "version": 2
   },
   "file_extension": ".py",
   "mimetype": "text/x-python",
   "name": "python",
   "nbconvert_exporter": "python",
   "pygments_lexer": "ipython2",
   "version": "2.7.6"
  }
 },
 "nbformat": 4,
 "nbformat_minor": 5
}
